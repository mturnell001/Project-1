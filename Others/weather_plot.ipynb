{
 "cells": [
  {
   "cell_type": "code",
   "execution_count": 1,
   "metadata": {},
   "outputs": [],
   "source": [
    "import pandas as pd\n",
    "import os,sys,glob\n",
    "import numpy as np\n",
    "import matplotlib.pyplot as plt"
   ]
  },
  {
   "cell_type": "code",
   "execution_count": 2,
   "metadata": {},
   "outputs": [
    {
     "data": {
      "text/html": [
       "<div>\n",
       "<style scoped>\n",
       "    .dataframe tbody tr th:only-of-type {\n",
       "        vertical-align: middle;\n",
       "    }\n",
       "\n",
       "    .dataframe tbody tr th {\n",
       "        vertical-align: top;\n",
       "    }\n",
       "\n",
       "    .dataframe thead th {\n",
       "        text-align: right;\n",
       "    }\n",
       "</style>\n",
       "<table border=\"1\" class=\"dataframe\">\n",
       "  <thead>\n",
       "    <tr style=\"text-align: right;\">\n",
       "      <th></th>\n",
       "      <th>ID</th>\n",
       "      <th>Year</th>\n",
       "      <th>Month</th>\n",
       "      <th>Mean_Tmax</th>\n",
       "      <th>Mean_Tmin</th>\n",
       "      <th>Mean_Prcp</th>\n",
       "      <th>Name</th>\n",
       "      <th>Lat</th>\n",
       "      <th>Lon</th>\n",
       "    </tr>\n",
       "  </thead>\n",
       "  <tbody>\n",
       "    <tr>\n",
       "      <th>0</th>\n",
       "      <td>USC00042863</td>\n",
       "      <td>2000</td>\n",
       "      <td>1</td>\n",
       "      <td>71.551724</td>\n",
       "      <td>44.482759</td>\n",
       "      <td>0.000000</td>\n",
       "      <td>Escondido</td>\n",
       "      <td>33.1211</td>\n",
       "      <td>-117.09</td>\n",
       "    </tr>\n",
       "    <tr>\n",
       "      <th>1</th>\n",
       "      <td>USC00042863</td>\n",
       "      <td>2000</td>\n",
       "      <td>2</td>\n",
       "      <td>70.136364</td>\n",
       "      <td>45.954545</td>\n",
       "      <td>0.000000</td>\n",
       "      <td>Escondido</td>\n",
       "      <td>33.1211</td>\n",
       "      <td>-117.09</td>\n",
       "    </tr>\n",
       "    <tr>\n",
       "      <th>2</th>\n",
       "      <td>USC00042863</td>\n",
       "      <td>2000</td>\n",
       "      <td>3</td>\n",
       "      <td>70.000000</td>\n",
       "      <td>45.806452</td>\n",
       "      <td>0.032258</td>\n",
       "      <td>Escondido</td>\n",
       "      <td>33.1211</td>\n",
       "      <td>-117.09</td>\n",
       "    </tr>\n",
       "    <tr>\n",
       "      <th>3</th>\n",
       "      <td>USC00042863</td>\n",
       "      <td>2000</td>\n",
       "      <td>4</td>\n",
       "      <td>76.482759</td>\n",
       "      <td>51.241379</td>\n",
       "      <td>0.000000</td>\n",
       "      <td>Escondido</td>\n",
       "      <td>33.1211</td>\n",
       "      <td>-117.09</td>\n",
       "    </tr>\n",
       "    <tr>\n",
       "      <th>4</th>\n",
       "      <td>USC00042863</td>\n",
       "      <td>2000</td>\n",
       "      <td>5</td>\n",
       "      <td>80.928571</td>\n",
       "      <td>54.714286</td>\n",
       "      <td>0.000000</td>\n",
       "      <td>Escondido</td>\n",
       "      <td>33.1211</td>\n",
       "      <td>-117.09</td>\n",
       "    </tr>\n",
       "  </tbody>\n",
       "</table>\n",
       "</div>"
      ],
      "text/plain": [
       "            ID  Year  Month  Mean_Tmax  Mean_Tmin  Mean_Prcp       Name  \\\n",
       "0  USC00042863  2000      1  71.551724  44.482759   0.000000  Escondido   \n",
       "1  USC00042863  2000      2  70.136364  45.954545   0.000000  Escondido   \n",
       "2  USC00042863  2000      3  70.000000  45.806452   0.032258  Escondido   \n",
       "3  USC00042863  2000      4  76.482759  51.241379   0.000000  Escondido   \n",
       "4  USC00042863  2000      5  80.928571  54.714286   0.000000  Escondido   \n",
       "\n",
       "       Lat     Lon  \n",
       "0  33.1211 -117.09  \n",
       "1  33.1211 -117.09  \n",
       "2  33.1211 -117.09  \n",
       "3  33.1211 -117.09  \n",
       "4  33.1211 -117.09  "
      ]
     },
     "execution_count": 2,
     "metadata": {},
     "output_type": "execute_result"
    }
   ],
   "source": [
    "df = pd.read_csv('Mean_Weather_Data_Final.csv')\n",
    "df.rename({\"Unnamed: 0\":\"a\"}, axis=\"columns\", inplace=True)\n",
    "df.drop(columns='a',inplace = True)\n",
    "df.head()\n"
   ]
  },
  {
   "cell_type": "code",
   "execution_count": 3,
   "metadata": {},
   "outputs": [
    {
     "data": {
      "text/plain": [
       "array(['Escondido', 'Natchitoches', 'Belvidere', 'NewBrunswick',\n",
       "       'Portland', 'Aiken', 'Denver', 'Flagstaff', 'Yuma', 'Riverside',\n",
       "       'Asheville', 'Macon', 'Augusta', 'Savannah', 'Bluefield',\n",
       "       'Huntington', 'Beckley', 'CollegeStation', 'DallasFortWorth',\n",
       "       'LakeCharles', 'Jackson', 'ColumbiaMO', 'KansasCity', 'Jonesboro',\n",
       "       'Jefferson', 'Stillwater', 'Cleveland', 'Orlando', 'Gainesville',\n",
       "       'FortMyers', 'KeyWest', 'Miami', 'Tampa', 'WestPalmBeach',\n",
       "       'SanAntonio', 'Galveston', 'CorpusChristi', 'Houston', 'Raleigh',\n",
       "       'Lynchburg', 'Morgantown', 'NorfolkVA', 'Philadelphia', 'Richmond',\n",
       "       'WashingtonDC', 'Wilmington', 'Hattiesburg', 'Mobile', 'Meridian',\n",
       "       'Charleston', 'Athens', 'Atlanta', 'Birmingham', 'Charlotte',\n",
       "       'Chattanooga', 'ColumbiaSC', 'GreenvilleSpartanburg',\n",
       "       'Jacksonville', 'Memphis', 'Montgomery', 'MuscleShoals',\n",
       "       'Nashville', 'Pensacola', 'Monroe', 'Shreveport', 'Austin',\n",
       "       'Abilene', 'LittleRock', 'FortSmith', 'Oklahoma', 'Tulsa',\n",
       "       'BatonRouge', 'Harrison', 'Concordia', 'DodgeCity', 'StLouis',\n",
       "       'SpringfieldMO', 'Topeka', 'Manchester', 'MiddletownHarrisburg',\n",
       "       'Buffalo', 'Albany', 'Boston', 'Burlington', 'Concord',\n",
       "       'GlensFalls', 'Milton', 'PortlandME', 'RochesterNY',\n",
       "       'Williamsport', 'Trenton', 'ColumbusOH', 'FortWayne', 'Lansing',\n",
       "       'Madison', 'Milwaukee', 'Muskegon', 'Peoria', 'Saginaw',\n",
       "       'SaultSteMarie', 'SouthBend', 'Erie', 'Wheeling', 'Akron',\n",
       "       'Wausau', 'GreenBay', 'Duluth', 'Fargo', 'GrandForks',\n",
       "       'InternationalFalls', 'LaCrosse', 'Minneapolis', 'Moline',\n",
       "       'RochesterMN', 'SaintCloud', 'Aberdeen', 'DesMoines',\n",
       "       'GrandIsland', 'Huron', 'Lincoln', 'NorfolkNE', 'Omaha',\n",
       "       'SiouxCity', 'SiouxFalls', 'Spencer', 'CedarRapids', 'EauClaire',\n",
       "       'Roswell', 'ElPaso', 'Amarillo', 'Albuquerque', 'Clayton',\n",
       "       'Goodland', 'GrandJunction', 'Ely', 'Bakersfield', 'Tucson',\n",
       "       'Needles', 'Phoenix', 'Reno', 'SanDiego', 'Sacramento', 'Ukiah',\n",
       "       'Bismarck', 'Cheyenne', 'Lander', 'NorthPlatte', 'Scottsbluff',\n",
       "       'Valentine', 'Elko', 'SaltLakeCity', 'Winnemucca', 'Boise',\n",
       "       'GreatFalls', 'Helena', 'Lewiston', 'Missoula', 'Pendleton',\n",
       "       'Spokane', 'TriCities', 'Eureka', 'EUGENE', 'Salem', 'Seattle',\n",
       "       'Redding', 'CrescentCity', 'Russellville', 'ColoradoSprings',\n",
       "       'Pueblo', 'LosAngeles', 'Fresno', 'Baltimore', 'CapeHatteras',\n",
       "       'Tallahassee', 'Cincinnati', 'Dayton', 'Evansville',\n",
       "       'Indianapolis', 'Lexington', 'Louisville', 'Springfield',\n",
       "       'Zaneville', 'ColumbusGA', 'Gulfport', 'PineBluff', 'Glasgow',\n",
       "       'Havre', 'Williston', 'McCook', 'Pullman', 'Astoria',\n",
       "       'KlamathFalls', 'Vancouver', 'NewYork', 'Worcester', 'Kalamazoo',\n",
       "       'Rockford', 'Pittsburgh', 'Toledo', 'Chicago', 'Detroit',\n",
       "       'Marquette', 'GrandRapids', 'Dubuque', 'Waterloo', 'Ashland',\n",
       "       'Hastings', 'Mitchell', 'Hayward'], dtype=object)"
      ]
     },
     "execution_count": 3,
     "metadata": {},
     "output_type": "execute_result"
    }
   ],
   "source": [
    "Name = df['Name'].unique()\n",
    "Name"
   ]
  },
  {
   "cell_type": "code",
   "execution_count": 82,
   "metadata": {},
   "outputs": [
    {
     "data": {
      "text/plain": [
       "['Denver',\n",
       " 'Miami',\n",
       " 'Houston',\n",
       " 'Raleigh',\n",
       " 'Atlanta',\n",
       " 'Nashville',\n",
       " 'LosAngeles',\n",
       " 'Burlington',\n",
       " 'Phoenix',\n",
       " 'Sacramento',\n",
       " 'Seattle',\n",
       " 'Chicago',\n",
       " 'NewYork',\n",
       " 'KansasCity',\n",
       " 'SiouxFalls']"
      ]
     },
     "execution_count": 82,
     "metadata": {},
     "output_type": "execute_result"
    }
   ],
   "source": [
    "city_pop=[]\n",
    "#city= ['billings',,''santa fe',\n",
    "           #'dallas','new orleans',]\n",
    "city = ['Denver', 'Miami', 'Houston', 'Raleigh', 'Atlanta', 'Nashville','LosAngeles',\n",
    "       'Burlington', 'Phoenix', 'Sacramento', 'Seattle', 'Chicago','NewYork','KansasCity','SiouxFalls',]\n",
    "\n",
    "for item in city:\n",
    "    #item = item.title()\n",
    "    city_pop.append(item)\n",
    "city_pop"
   ]
  },
  {
   "cell_type": "code",
   "execution_count": 83,
   "metadata": {},
   "outputs": [
    {
     "data": {
      "text/plain": [
       "array(['Denver', 'KansasCity', 'Miami', 'Houston', 'Raleigh', 'Atlanta',\n",
       "       'Nashville', 'Burlington', 'SiouxFalls', 'Phoenix', 'Sacramento',\n",
       "       'Seattle', 'LosAngeles', 'NewYork', 'Chicago'], dtype=object)"
      ]
     },
     "execution_count": 83,
     "metadata": {},
     "output_type": "execute_result"
    }
   ],
   "source": [
    "df_city=df.loc[df['Name'].isin(city_pop)]\n",
    "df_city.head()\n",
    "df_city['Name'].unique()"
   ]
  },
  {
   "cell_type": "code",
   "execution_count": 31,
   "metadata": {},
   "outputs": [],
   "source": [
    "#df_city.to_csv(r'Weather by pop cities 2000-2015.csv')"
   ]
  },
  {
   "cell_type": "code",
   "execution_count": 84,
   "metadata": {},
   "outputs": [
    {
     "data": {
      "text/html": [
       "<div>\n",
       "<style scoped>\n",
       "    .dataframe tbody tr th:only-of-type {\n",
       "        vertical-align: middle;\n",
       "    }\n",
       "\n",
       "    .dataframe tbody tr th {\n",
       "        vertical-align: top;\n",
       "    }\n",
       "\n",
       "    .dataframe thead th {\n",
       "        text-align: right;\n",
       "    }\n",
       "</style>\n",
       "<table border=\"1\" class=\"dataframe\">\n",
       "  <thead>\n",
       "    <tr style=\"text-align: right;\">\n",
       "      <th></th>\n",
       "      <th>ID</th>\n",
       "      <th>Year</th>\n",
       "      <th>Month</th>\n",
       "      <th>Mean_Tmax</th>\n",
       "      <th>Mean_Tmin</th>\n",
       "      <th>Mean_Prcp</th>\n",
       "      <th>Name</th>\n",
       "      <th>Lat</th>\n",
       "      <th>Lon</th>\n",
       "    </tr>\n",
       "  </thead>\n",
       "  <tbody>\n",
       "    <tr>\n",
       "      <th>1083</th>\n",
       "      <td>USW00003017</td>\n",
       "      <td>2000</td>\n",
       "      <td>1</td>\n",
       "      <td>46.290323</td>\n",
       "      <td>19.677419</td>\n",
       "      <td>0.0</td>\n",
       "      <td>Denver</td>\n",
       "      <td>39.8328</td>\n",
       "      <td>-104.6575</td>\n",
       "    </tr>\n",
       "    <tr>\n",
       "      <th>1084</th>\n",
       "      <td>USW00003017</td>\n",
       "      <td>2000</td>\n",
       "      <td>2</td>\n",
       "      <td>53.551724</td>\n",
       "      <td>24.724138</td>\n",
       "      <td>0.0</td>\n",
       "      <td>Denver</td>\n",
       "      <td>39.8328</td>\n",
       "      <td>-104.6575</td>\n",
       "    </tr>\n",
       "    <tr>\n",
       "      <th>1085</th>\n",
       "      <td>USW00003017</td>\n",
       "      <td>2000</td>\n",
       "      <td>3</td>\n",
       "      <td>53.451613</td>\n",
       "      <td>27.322581</td>\n",
       "      <td>0.0</td>\n",
       "      <td>Denver</td>\n",
       "      <td>39.8328</td>\n",
       "      <td>-104.6575</td>\n",
       "    </tr>\n",
       "    <tr>\n",
       "      <th>1095</th>\n",
       "      <td>USW00003017</td>\n",
       "      <td>2001</td>\n",
       "      <td>1</td>\n",
       "      <td>41.870968</td>\n",
       "      <td>18.129032</td>\n",
       "      <td>0.0</td>\n",
       "      <td>Denver</td>\n",
       "      <td>39.8328</td>\n",
       "      <td>-104.6575</td>\n",
       "    </tr>\n",
       "    <tr>\n",
       "      <th>1096</th>\n",
       "      <td>USW00003017</td>\n",
       "      <td>2001</td>\n",
       "      <td>2</td>\n",
       "      <td>39.357143</td>\n",
       "      <td>17.178571</td>\n",
       "      <td>0.0</td>\n",
       "      <td>Denver</td>\n",
       "      <td>39.8328</td>\n",
       "      <td>-104.6575</td>\n",
       "    </tr>\n",
       "  </tbody>\n",
       "</table>\n",
       "</div>"
      ],
      "text/plain": [
       "               ID  Year  Month  Mean_Tmax  Mean_Tmin  Mean_Prcp    Name  \\\n",
       "1083  USW00003017  2000      1  46.290323  19.677419        0.0  Denver   \n",
       "1084  USW00003017  2000      2  53.551724  24.724138        0.0  Denver   \n",
       "1085  USW00003017  2000      3  53.451613  27.322581        0.0  Denver   \n",
       "1095  USW00003017  2001      1  41.870968  18.129032        0.0  Denver   \n",
       "1096  USW00003017  2001      2  39.357143  17.178571        0.0  Denver   \n",
       "\n",
       "          Lat       Lon  \n",
       "1083  39.8328 -104.6575  \n",
       "1084  39.8328 -104.6575  \n",
       "1085  39.8328 -104.6575  \n",
       "1095  39.8328 -104.6575  \n",
       "1096  39.8328 -104.6575  "
      ]
     },
     "execution_count": 84,
     "metadata": {},
     "output_type": "execute_result"
    }
   ],
   "source": [
    "q1=[1,2,3]#spring\n",
    "q2=[4,5,6]#summer\n",
    "q3=[7,8,9]#fall\n",
    "q4=[10,11,12]#winter\n",
    "df_city_q1 = df_city.loc[df['Month'].isin(q1)]\n",
    "df_city_q2 = df_city.loc[df['Month'].isin(q2)]\n",
    "df_city_q3 = df_city.loc[df['Month'].isin(q3)]\n",
    "df_city_q4 = df_city.loc[df['Month'].isin(q4)]\n",
    "df_city_q1.head()"
   ]
  },
  {
   "cell_type": "code",
   "execution_count": 119,
   "metadata": {},
   "outputs": [
    {
     "ename": "AttributeError",
     "evalue": "module 'pandas' has no attribute 'NamedAgg'",
     "output_type": "error",
     "traceback": [
      "\u001b[1;31m---------------------------------------------------------------------------\u001b[0m",
      "\u001b[1;31mAttributeError\u001b[0m                            Traceback (most recent call last)",
      "\u001b[1;32m<ipython-input-119-ed336b5a0181>\u001b[0m in \u001b[0;36m<module>\u001b[1;34m\u001b[0m\n\u001b[0;32m      5\u001b[0m \u001b[1;33m\u001b[0m\u001b[0m\n\u001b[0;32m      6\u001b[0m df_city_q1_mean= pd.DataFrame(df_city_q1.groupby(['Name','Year','Lat','Lon']).\n\u001b[1;32m----> 7\u001b[1;33m                       agg(Mean_Tmax=pd.NamedAgg('Mean_Tmax','mean'),\n\u001b[0m\u001b[0;32m      8\u001b[0m                           \u001b[0mMean_Tmin\u001b[0m\u001b[1;33m=\u001b[0m\u001b[0mpd\u001b[0m\u001b[1;33m.\u001b[0m\u001b[0mNamedAgg\u001b[0m\u001b[1;33m(\u001b[0m\u001b[1;34m'Mean_Tmin'\u001b[0m\u001b[1;33m,\u001b[0m\u001b[1;34m'mean'\u001b[0m\u001b[1;33m)\u001b[0m\u001b[1;33m,\u001b[0m\u001b[1;33m\u001b[0m\u001b[1;33m\u001b[0m\u001b[0m\n\u001b[0;32m      9\u001b[0m                           Mean_Prcp=pd.NamedAgg('Mean_Prcp','mean'))).reset_index()\n",
      "\u001b[1;31mAttributeError\u001b[0m: module 'pandas' has no attribute 'NamedAgg'"
     ]
    }
   ],
   "source": [
    "#df_city_q1_mean= pd.DataFrame(df_city_q1.groupby(['Name','Year','Lat','Lon'])['Mean_Tmax','Mean_Tmin','Mean_Prcp'].mean())\n",
    "#df_city_q1_mean.reset_index()\n",
    "#df_city_q1_mean.head()\n",
    "\n",
    "\n",
    "df_city_q1_mean= pd.DataFrame(df_city_q1.groupby(['Name','Year','Lat','Lon']).\n",
    "                      agg(Mean_Tmax=pd.NamedAgg('Mean_Tmax','mean'),\n",
    "                          Mean_Tmin=pd.NamedAgg('Mean_Tmin','mean'),\n",
    "                          Mean_Prcp=pd.NamedAgg('Mean_Prcp','mean'))).reset_index()\n",
    "df_city_q1_mean.head()\n",
    "\n"
   ]
  },
  {
   "cell_type": "code",
   "execution_count": 114,
   "metadata": {},
   "outputs": [
    {
     "ename": "KeyError",
     "evalue": "\"['Lat' 'Lon'] not found in axis\"",
     "output_type": "error",
     "traceback": [
      "\u001b[1;31m---------------------------------------------------------------------------\u001b[0m",
      "\u001b[1;31mKeyError\u001b[0m                                  Traceback (most recent call last)",
      "\u001b[1;32m<ipython-input-114-7f0cd2e76850>\u001b[0m in \u001b[0;36m<module>\u001b[1;34m\u001b[0m\n\u001b[1;32m----> 1\u001b[1;33m \u001b[0mplot_df\u001b[0m \u001b[1;33m=\u001b[0m \u001b[0mdf_city_q1_mean\u001b[0m\u001b[1;33m.\u001b[0m\u001b[0mdrop\u001b[0m\u001b[1;33m(\u001b[0m\u001b[0mcolumns\u001b[0m\u001b[1;33m=\u001b[0m\u001b[1;33m[\u001b[0m\u001b[1;34m'Lat'\u001b[0m\u001b[1;33m,\u001b[0m\u001b[1;34m'Lon'\u001b[0m\u001b[1;33m]\u001b[0m\u001b[1;33m)\u001b[0m\u001b[1;33m\u001b[0m\u001b[1;33m\u001b[0m\u001b[0m\n\u001b[0m",
      "\u001b[1;32m~\\Anaconda3\\lib\\site-packages\\pandas\\core\\frame.py\u001b[0m in \u001b[0;36mdrop\u001b[1;34m(self, labels, axis, index, columns, level, inplace, errors)\u001b[0m\n\u001b[0;32m   3938\u001b[0m                                            \u001b[0mindex\u001b[0m\u001b[1;33m=\u001b[0m\u001b[0mindex\u001b[0m\u001b[1;33m,\u001b[0m \u001b[0mcolumns\u001b[0m\u001b[1;33m=\u001b[0m\u001b[0mcolumns\u001b[0m\u001b[1;33m,\u001b[0m\u001b[1;33m\u001b[0m\u001b[1;33m\u001b[0m\u001b[0m\n\u001b[0;32m   3939\u001b[0m                                            \u001b[0mlevel\u001b[0m\u001b[1;33m=\u001b[0m\u001b[0mlevel\u001b[0m\u001b[1;33m,\u001b[0m \u001b[0minplace\u001b[0m\u001b[1;33m=\u001b[0m\u001b[0minplace\u001b[0m\u001b[1;33m,\u001b[0m\u001b[1;33m\u001b[0m\u001b[1;33m\u001b[0m\u001b[0m\n\u001b[1;32m-> 3940\u001b[1;33m                                            errors=errors)\n\u001b[0m\u001b[0;32m   3941\u001b[0m \u001b[1;33m\u001b[0m\u001b[0m\n\u001b[0;32m   3942\u001b[0m     @rewrite_axis_style_signature('mapper', [('copy', True),\n",
      "\u001b[1;32m~\\Anaconda3\\lib\\site-packages\\pandas\\core\\generic.py\u001b[0m in \u001b[0;36mdrop\u001b[1;34m(self, labels, axis, index, columns, level, inplace, errors)\u001b[0m\n\u001b[0;32m   3778\u001b[0m         \u001b[1;32mfor\u001b[0m \u001b[0maxis\u001b[0m\u001b[1;33m,\u001b[0m \u001b[0mlabels\u001b[0m \u001b[1;32min\u001b[0m \u001b[0maxes\u001b[0m\u001b[1;33m.\u001b[0m\u001b[0mitems\u001b[0m\u001b[1;33m(\u001b[0m\u001b[1;33m)\u001b[0m\u001b[1;33m:\u001b[0m\u001b[1;33m\u001b[0m\u001b[1;33m\u001b[0m\u001b[0m\n\u001b[0;32m   3779\u001b[0m             \u001b[1;32mif\u001b[0m \u001b[0mlabels\u001b[0m \u001b[1;32mis\u001b[0m \u001b[1;32mnot\u001b[0m \u001b[1;32mNone\u001b[0m\u001b[1;33m:\u001b[0m\u001b[1;33m\u001b[0m\u001b[1;33m\u001b[0m\u001b[0m\n\u001b[1;32m-> 3780\u001b[1;33m                 \u001b[0mobj\u001b[0m \u001b[1;33m=\u001b[0m \u001b[0mobj\u001b[0m\u001b[1;33m.\u001b[0m\u001b[0m_drop_axis\u001b[0m\u001b[1;33m(\u001b[0m\u001b[0mlabels\u001b[0m\u001b[1;33m,\u001b[0m \u001b[0maxis\u001b[0m\u001b[1;33m,\u001b[0m \u001b[0mlevel\u001b[0m\u001b[1;33m=\u001b[0m\u001b[0mlevel\u001b[0m\u001b[1;33m,\u001b[0m \u001b[0merrors\u001b[0m\u001b[1;33m=\u001b[0m\u001b[0merrors\u001b[0m\u001b[1;33m)\u001b[0m\u001b[1;33m\u001b[0m\u001b[1;33m\u001b[0m\u001b[0m\n\u001b[0m\u001b[0;32m   3781\u001b[0m \u001b[1;33m\u001b[0m\u001b[0m\n\u001b[0;32m   3782\u001b[0m         \u001b[1;32mif\u001b[0m \u001b[0minplace\u001b[0m\u001b[1;33m:\u001b[0m\u001b[1;33m\u001b[0m\u001b[1;33m\u001b[0m\u001b[0m\n",
      "\u001b[1;32m~\\Anaconda3\\lib\\site-packages\\pandas\\core\\generic.py\u001b[0m in \u001b[0;36m_drop_axis\u001b[1;34m(self, labels, axis, level, errors)\u001b[0m\n\u001b[0;32m   3810\u001b[0m                 \u001b[0mnew_axis\u001b[0m \u001b[1;33m=\u001b[0m \u001b[0maxis\u001b[0m\u001b[1;33m.\u001b[0m\u001b[0mdrop\u001b[0m\u001b[1;33m(\u001b[0m\u001b[0mlabels\u001b[0m\u001b[1;33m,\u001b[0m \u001b[0mlevel\u001b[0m\u001b[1;33m=\u001b[0m\u001b[0mlevel\u001b[0m\u001b[1;33m,\u001b[0m \u001b[0merrors\u001b[0m\u001b[1;33m=\u001b[0m\u001b[0merrors\u001b[0m\u001b[1;33m)\u001b[0m\u001b[1;33m\u001b[0m\u001b[1;33m\u001b[0m\u001b[0m\n\u001b[0;32m   3811\u001b[0m             \u001b[1;32melse\u001b[0m\u001b[1;33m:\u001b[0m\u001b[1;33m\u001b[0m\u001b[1;33m\u001b[0m\u001b[0m\n\u001b[1;32m-> 3812\u001b[1;33m                 \u001b[0mnew_axis\u001b[0m \u001b[1;33m=\u001b[0m \u001b[0maxis\u001b[0m\u001b[1;33m.\u001b[0m\u001b[0mdrop\u001b[0m\u001b[1;33m(\u001b[0m\u001b[0mlabels\u001b[0m\u001b[1;33m,\u001b[0m \u001b[0merrors\u001b[0m\u001b[1;33m=\u001b[0m\u001b[0merrors\u001b[0m\u001b[1;33m)\u001b[0m\u001b[1;33m\u001b[0m\u001b[1;33m\u001b[0m\u001b[0m\n\u001b[0m\u001b[0;32m   3813\u001b[0m             \u001b[0mresult\u001b[0m \u001b[1;33m=\u001b[0m \u001b[0mself\u001b[0m\u001b[1;33m.\u001b[0m\u001b[0mreindex\u001b[0m\u001b[1;33m(\u001b[0m\u001b[1;33m**\u001b[0m\u001b[1;33m{\u001b[0m\u001b[0maxis_name\u001b[0m\u001b[1;33m:\u001b[0m \u001b[0mnew_axis\u001b[0m\u001b[1;33m}\u001b[0m\u001b[1;33m)\u001b[0m\u001b[1;33m\u001b[0m\u001b[1;33m\u001b[0m\u001b[0m\n\u001b[0;32m   3814\u001b[0m \u001b[1;33m\u001b[0m\u001b[0m\n",
      "\u001b[1;32m~\\Anaconda3\\lib\\site-packages\\pandas\\core\\indexes\\base.py\u001b[0m in \u001b[0;36mdrop\u001b[1;34m(self, labels, errors)\u001b[0m\n\u001b[0;32m   4963\u001b[0m             \u001b[1;32mif\u001b[0m \u001b[0merrors\u001b[0m \u001b[1;33m!=\u001b[0m \u001b[1;34m'ignore'\u001b[0m\u001b[1;33m:\u001b[0m\u001b[1;33m\u001b[0m\u001b[1;33m\u001b[0m\u001b[0m\n\u001b[0;32m   4964\u001b[0m                 raise KeyError(\n\u001b[1;32m-> 4965\u001b[1;33m                     '{} not found in axis'.format(labels[mask]))\n\u001b[0m\u001b[0;32m   4966\u001b[0m             \u001b[0mindexer\u001b[0m \u001b[1;33m=\u001b[0m \u001b[0mindexer\u001b[0m\u001b[1;33m[\u001b[0m\u001b[1;33m~\u001b[0m\u001b[0mmask\u001b[0m\u001b[1;33m]\u001b[0m\u001b[1;33m\u001b[0m\u001b[1;33m\u001b[0m\u001b[0m\n\u001b[0;32m   4967\u001b[0m         \u001b[1;32mreturn\u001b[0m \u001b[0mself\u001b[0m\u001b[1;33m.\u001b[0m\u001b[0mdelete\u001b[0m\u001b[1;33m(\u001b[0m\u001b[0mindexer\u001b[0m\u001b[1;33m)\u001b[0m\u001b[1;33m\u001b[0m\u001b[1;33m\u001b[0m\u001b[0m\n",
      "\u001b[1;31mKeyError\u001b[0m: \"['Lat' 'Lon'] not found in axis\""
     ]
    }
   ],
   "source": [
    "plot_df = df_city_q1_mean.drop(columns=['Lat','Lon'])\n"
   ]
  },
  {
   "cell_type": "code",
   "execution_count": 112,
   "metadata": {},
   "outputs": [
    {
     "ename": "ValueError",
     "evalue": "x and y must have same first dimension, but have shapes (15,) and (240,)",
     "output_type": "error",
     "traceback": [
      "\u001b[1;31m---------------------------------------------------------------------------\u001b[0m",
      "\u001b[1;31mValueError\u001b[0m                                Traceback (most recent call last)",
      "\u001b[1;32m<ipython-input-112-d93eeeae137f>\u001b[0m in \u001b[0;36m<module>\u001b[1;34m\u001b[0m\n\u001b[0;32m     12\u001b[0m \u001b[0myears\u001b[0m \u001b[1;33m=\u001b[0m \u001b[0mnp\u001b[0m\u001b[1;33m.\u001b[0m\u001b[0marange\u001b[0m\u001b[1;33m(\u001b[0m\u001b[1;36m2000\u001b[0m\u001b[1;33m,\u001b[0m \u001b[1;36m2015\u001b[0m\u001b[1;33m,\u001b[0m \u001b[1;36m1\u001b[0m\u001b[1;33m)\u001b[0m\u001b[1;33m.\u001b[0m\u001b[0mtolist\u001b[0m\u001b[1;33m(\u001b[0m\u001b[1;33m)\u001b[0m\u001b[1;33m\u001b[0m\u001b[1;33m\u001b[0m\u001b[0m\n\u001b[0;32m     13\u001b[0m \u001b[1;31m#ears\u001b[0m\u001b[1;33m\u001b[0m\u001b[1;33m\u001b[0m\u001b[1;33m\u001b[0m\u001b[0m\n\u001b[1;32m---> 14\u001b[1;33m \u001b[0mplt\u001b[0m\u001b[1;33m.\u001b[0m\u001b[0mplot\u001b[0m\u001b[1;33m(\u001b[0m\u001b[0myears\u001b[0m\u001b[1;33m,\u001b[0m \u001b[0mdf_city_q1_mean\u001b[0m\u001b[1;33m[\u001b[0m\u001b[1;34m'Mean_Tmax'\u001b[0m\u001b[1;33m]\u001b[0m\u001b[1;33m,\u001b[0m\u001b[0mcolor\u001b[0m\u001b[1;33m=\u001b[0m\u001b[1;34m\"blue\"\u001b[0m\u001b[1;33m,\u001b[0m \u001b[0mlabel\u001b[0m\u001b[1;33m=\u001b[0m\u001b[1;34m\"Max_Temp_Q1\"\u001b[0m \u001b[1;33m)\u001b[0m\u001b[1;33m\u001b[0m\u001b[1;33m\u001b[0m\u001b[0m\n\u001b[0m\u001b[0;32m     15\u001b[0m \u001b[1;31m#plt.show()\u001b[0m\u001b[1;33m\u001b[0m\u001b[1;33m\u001b[0m\u001b[1;33m\u001b[0m\u001b[0m\n",
      "\u001b[1;32m~\\Anaconda3\\lib\\site-packages\\matplotlib\\pyplot.py\u001b[0m in \u001b[0;36mplot\u001b[1;34m(scalex, scaley, data, *args, **kwargs)\u001b[0m\n\u001b[0;32m   2787\u001b[0m     return gca().plot(\n\u001b[0;32m   2788\u001b[0m         *args, scalex=scalex, scaley=scaley, **({\"data\": data} if data\n\u001b[1;32m-> 2789\u001b[1;33m         is not None else {}), **kwargs)\n\u001b[0m\u001b[0;32m   2790\u001b[0m \u001b[1;33m\u001b[0m\u001b[0m\n\u001b[0;32m   2791\u001b[0m \u001b[1;33m\u001b[0m\u001b[0m\n",
      "\u001b[1;32m~\\Anaconda3\\lib\\site-packages\\matplotlib\\axes\\_axes.py\u001b[0m in \u001b[0;36mplot\u001b[1;34m(self, scalex, scaley, data, *args, **kwargs)\u001b[0m\n\u001b[0;32m   1664\u001b[0m         \"\"\"\n\u001b[0;32m   1665\u001b[0m         \u001b[0mkwargs\u001b[0m \u001b[1;33m=\u001b[0m \u001b[0mcbook\u001b[0m\u001b[1;33m.\u001b[0m\u001b[0mnormalize_kwargs\u001b[0m\u001b[1;33m(\u001b[0m\u001b[0mkwargs\u001b[0m\u001b[1;33m,\u001b[0m \u001b[0mmlines\u001b[0m\u001b[1;33m.\u001b[0m\u001b[0mLine2D\u001b[0m\u001b[1;33m.\u001b[0m\u001b[0m_alias_map\u001b[0m\u001b[1;33m)\u001b[0m\u001b[1;33m\u001b[0m\u001b[1;33m\u001b[0m\u001b[0m\n\u001b[1;32m-> 1666\u001b[1;33m         \u001b[0mlines\u001b[0m \u001b[1;33m=\u001b[0m \u001b[1;33m[\u001b[0m\u001b[1;33m*\u001b[0m\u001b[0mself\u001b[0m\u001b[1;33m.\u001b[0m\u001b[0m_get_lines\u001b[0m\u001b[1;33m(\u001b[0m\u001b[1;33m*\u001b[0m\u001b[0margs\u001b[0m\u001b[1;33m,\u001b[0m \u001b[0mdata\u001b[0m\u001b[1;33m=\u001b[0m\u001b[0mdata\u001b[0m\u001b[1;33m,\u001b[0m \u001b[1;33m**\u001b[0m\u001b[0mkwargs\u001b[0m\u001b[1;33m)\u001b[0m\u001b[1;33m]\u001b[0m\u001b[1;33m\u001b[0m\u001b[1;33m\u001b[0m\u001b[0m\n\u001b[0m\u001b[0;32m   1667\u001b[0m         \u001b[1;32mfor\u001b[0m \u001b[0mline\u001b[0m \u001b[1;32min\u001b[0m \u001b[0mlines\u001b[0m\u001b[1;33m:\u001b[0m\u001b[1;33m\u001b[0m\u001b[1;33m\u001b[0m\u001b[0m\n\u001b[0;32m   1668\u001b[0m             \u001b[0mself\u001b[0m\u001b[1;33m.\u001b[0m\u001b[0madd_line\u001b[0m\u001b[1;33m(\u001b[0m\u001b[0mline\u001b[0m\u001b[1;33m)\u001b[0m\u001b[1;33m\u001b[0m\u001b[1;33m\u001b[0m\u001b[0m\n",
      "\u001b[1;32m~\\Anaconda3\\lib\\site-packages\\matplotlib\\axes\\_base.py\u001b[0m in \u001b[0;36m__call__\u001b[1;34m(self, *args, **kwargs)\u001b[0m\n\u001b[0;32m    223\u001b[0m                 \u001b[0mthis\u001b[0m \u001b[1;33m+=\u001b[0m \u001b[0margs\u001b[0m\u001b[1;33m[\u001b[0m\u001b[1;36m0\u001b[0m\u001b[1;33m]\u001b[0m\u001b[1;33m,\u001b[0m\u001b[1;33m\u001b[0m\u001b[1;33m\u001b[0m\u001b[0m\n\u001b[0;32m    224\u001b[0m                 \u001b[0margs\u001b[0m \u001b[1;33m=\u001b[0m \u001b[0margs\u001b[0m\u001b[1;33m[\u001b[0m\u001b[1;36m1\u001b[0m\u001b[1;33m:\u001b[0m\u001b[1;33m]\u001b[0m\u001b[1;33m\u001b[0m\u001b[1;33m\u001b[0m\u001b[0m\n\u001b[1;32m--> 225\u001b[1;33m             \u001b[1;32myield\u001b[0m \u001b[1;32mfrom\u001b[0m \u001b[0mself\u001b[0m\u001b[1;33m.\u001b[0m\u001b[0m_plot_args\u001b[0m\u001b[1;33m(\u001b[0m\u001b[0mthis\u001b[0m\u001b[1;33m,\u001b[0m \u001b[0mkwargs\u001b[0m\u001b[1;33m)\u001b[0m\u001b[1;33m\u001b[0m\u001b[1;33m\u001b[0m\u001b[0m\n\u001b[0m\u001b[0;32m    226\u001b[0m \u001b[1;33m\u001b[0m\u001b[0m\n\u001b[0;32m    227\u001b[0m     \u001b[1;32mdef\u001b[0m \u001b[0mget_next_color\u001b[0m\u001b[1;33m(\u001b[0m\u001b[0mself\u001b[0m\u001b[1;33m)\u001b[0m\u001b[1;33m:\u001b[0m\u001b[1;33m\u001b[0m\u001b[1;33m\u001b[0m\u001b[0m\n",
      "\u001b[1;32m~\\Anaconda3\\lib\\site-packages\\matplotlib\\axes\\_base.py\u001b[0m in \u001b[0;36m_plot_args\u001b[1;34m(self, tup, kwargs)\u001b[0m\n\u001b[0;32m    389\u001b[0m             \u001b[0mx\u001b[0m\u001b[1;33m,\u001b[0m \u001b[0my\u001b[0m \u001b[1;33m=\u001b[0m \u001b[0mindex_of\u001b[0m\u001b[1;33m(\u001b[0m\u001b[0mtup\u001b[0m\u001b[1;33m[\u001b[0m\u001b[1;33m-\u001b[0m\u001b[1;36m1\u001b[0m\u001b[1;33m]\u001b[0m\u001b[1;33m)\u001b[0m\u001b[1;33m\u001b[0m\u001b[1;33m\u001b[0m\u001b[0m\n\u001b[0;32m    390\u001b[0m \u001b[1;33m\u001b[0m\u001b[0m\n\u001b[1;32m--> 391\u001b[1;33m         \u001b[0mx\u001b[0m\u001b[1;33m,\u001b[0m \u001b[0my\u001b[0m \u001b[1;33m=\u001b[0m \u001b[0mself\u001b[0m\u001b[1;33m.\u001b[0m\u001b[0m_xy_from_xy\u001b[0m\u001b[1;33m(\u001b[0m\u001b[0mx\u001b[0m\u001b[1;33m,\u001b[0m \u001b[0my\u001b[0m\u001b[1;33m)\u001b[0m\u001b[1;33m\u001b[0m\u001b[1;33m\u001b[0m\u001b[0m\n\u001b[0m\u001b[0;32m    392\u001b[0m \u001b[1;33m\u001b[0m\u001b[0m\n\u001b[0;32m    393\u001b[0m         \u001b[1;32mif\u001b[0m \u001b[0mself\u001b[0m\u001b[1;33m.\u001b[0m\u001b[0mcommand\u001b[0m \u001b[1;33m==\u001b[0m \u001b[1;34m'plot'\u001b[0m\u001b[1;33m:\u001b[0m\u001b[1;33m\u001b[0m\u001b[1;33m\u001b[0m\u001b[0m\n",
      "\u001b[1;32m~\\Anaconda3\\lib\\site-packages\\matplotlib\\axes\\_base.py\u001b[0m in \u001b[0;36m_xy_from_xy\u001b[1;34m(self, x, y)\u001b[0m\n\u001b[0;32m    268\u001b[0m         \u001b[1;32mif\u001b[0m \u001b[0mx\u001b[0m\u001b[1;33m.\u001b[0m\u001b[0mshape\u001b[0m\u001b[1;33m[\u001b[0m\u001b[1;36m0\u001b[0m\u001b[1;33m]\u001b[0m \u001b[1;33m!=\u001b[0m \u001b[0my\u001b[0m\u001b[1;33m.\u001b[0m\u001b[0mshape\u001b[0m\u001b[1;33m[\u001b[0m\u001b[1;36m0\u001b[0m\u001b[1;33m]\u001b[0m\u001b[1;33m:\u001b[0m\u001b[1;33m\u001b[0m\u001b[1;33m\u001b[0m\u001b[0m\n\u001b[0;32m    269\u001b[0m             raise ValueError(\"x and y must have same first dimension, but \"\n\u001b[1;32m--> 270\u001b[1;33m                              \"have shapes {} and {}\".format(x.shape, y.shape))\n\u001b[0m\u001b[0;32m    271\u001b[0m         \u001b[1;32mif\u001b[0m \u001b[0mx\u001b[0m\u001b[1;33m.\u001b[0m\u001b[0mndim\u001b[0m \u001b[1;33m>\u001b[0m \u001b[1;36m2\u001b[0m \u001b[1;32mor\u001b[0m \u001b[0my\u001b[0m\u001b[1;33m.\u001b[0m\u001b[0mndim\u001b[0m \u001b[1;33m>\u001b[0m \u001b[1;36m2\u001b[0m\u001b[1;33m:\u001b[0m\u001b[1;33m\u001b[0m\u001b[1;33m\u001b[0m\u001b[0m\n\u001b[0;32m    272\u001b[0m             raise ValueError(\"x and y can be no greater than 2-D, but have \"\n",
      "\u001b[1;31mValueError\u001b[0m: x and y must have same first dimension, but have shapes (15,) and (240,)"
     ]
    },
    {
     "data": {
      "image/png": "[encoded data removed]",
      "text/plain": [
       "<Figure size 432x288 with 1 Axes>"
      ]
     },
     "metadata": {
      "needs_background": "light"
     },
     "output_type": "display_data"
    }
   ],
   "source": [
    "#world_avg, = plt.plot(years, average_unemployment, color=\"blue\", label=\"World Average\" )\n",
    "\n",
    "# Plot the unemployment values for a single country\n",
    "#country_one, = plt.plot(years, combined_unemployed_data.loc['USA',[\"2010\",\"2011\",\"2012\",\"2013\",\"2014\"]], \n",
    "                        #olor=\"green\",label=combined_unemployed_data.loc['USA',\"Country Name\"])\n",
    "\n",
    "# Create a legend for our chart\n",
    "#plt.legend(handles=[world_avg, country_one], loc=\"best\")\n",
    "\n",
    "# Show the chart\n",
    "#plt.show()\n",
    "years = np.arange(2000, 2015, 1).tolist()\n",
    "#ears\n",
    "plt.plot(years, df_city_q1_mean['Mean_Tmax'],color=\"blue\", label=\"Max_Temp_Q1\" )\n",
    "#plt.show()"
   ]
  }
 ],
 "metadata": {
  "kernelspec": {
   "display_name": "Python 3",
   "language": "python",
   "name": "python3"
  },
  "language_info": {
   "codemirror_mode": {
    "name": "ipython",
    "version": 3
   },
   "file_extension": ".py",
   "mimetype": "text/x-python",
   "name": "python",
   "nbconvert_exporter": "python",
   "pygments_lexer": "ipython3",
   "version": "3.7.3"
  }
 },
 "nbformat": 4,
 "nbformat_minor": 2
}
