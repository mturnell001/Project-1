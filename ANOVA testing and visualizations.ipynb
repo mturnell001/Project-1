{
 "cells": [
  {
   "cell_type": "code",
   "execution_count": 65,
   "metadata": {},
   "outputs": [],
   "source": [
    "import pandas as pd\n",
    "import numpy as np\n",
    "import math\n",
    "import seaborn as sns\n",
    "import statsmodels.api as sm\n",
    "from statsmodels.formula.api import ols\n",
    "import scipy.stats as stats\n",
    "from statsmodels.stats.multicomp import pairwise_tukeyhsd\n",
    "from statsmodels.stats.multicomp import MultiComparison\n",
    "\n"
   ]
  },
  {
   "cell_type": "code",
   "execution_count": 33,
   "metadata": {},
   "outputs": [],
   "source": [
    "data_df = pd.read_csv('Culled Wildfires 2000-2015.csv')\n",
    "\n",
    "data_df = data_df.loc[(data_df['STATE'] != 'AK') & (data_df['STATE'] != 'HI') & (data_df['STATE'] != 'PR')]"
   ]
  },
  {
   "cell_type": "code",
   "execution_count": 34,
   "metadata": {},
   "outputs": [
    {
     "data": {
      "text/html": [
       "<div>\n",
       "<style scoped>\n",
       "    .dataframe tbody tr th:only-of-type {\n",
       "        vertical-align: middle;\n",
       "    }\n",
       "\n",
       "    .dataframe tbody tr th {\n",
       "        vertical-align: top;\n",
       "    }\n",
       "\n",
       "    .dataframe thead th {\n",
       "        text-align: right;\n",
       "    }\n",
       "</style>\n",
       "<table border=\"1\" class=\"dataframe\">\n",
       "  <thead>\n",
       "    <tr style=\"text-align: right;\">\n",
       "      <th></th>\n",
       "      <th>FIRE_DISC_DATE</th>\n",
       "      <th>FIRE_CONT_DATE</th>\n",
       "      <th>FIRE_DURATION</th>\n",
       "      <th>FIRE_SIZE_CLASS</th>\n",
       "      <th>FIRE_SIZE</th>\n",
       "      <th>STAT_CAUSE_DESCR</th>\n",
       "      <th>STATE</th>\n",
       "      <th>LATITUDE</th>\n",
       "      <th>LONGITUDE</th>\n",
       "      <th>FIRE_YEAR_DISC</th>\n",
       "      <th>FIRE_MONTH_DISC</th>\n",
       "    </tr>\n",
       "  </thead>\n",
       "  <tbody>\n",
       "    <tr>\n",
       "      <th>0</th>\n",
       "      <td>2000-01-01</td>\n",
       "      <td>2000-01-20</td>\n",
       "      <td>19</td>\n",
       "      <td>B</td>\n",
       "      <td>5.0</td>\n",
       "      <td>Debris Burning</td>\n",
       "      <td>CA</td>\n",
       "      <td>36.448910</td>\n",
       "      <td>-118.738110</td>\n",
       "      <td>2000</td>\n",
       "      <td>1</td>\n",
       "    </tr>\n",
       "    <tr>\n",
       "      <th>1</th>\n",
       "      <td>2000-01-01</td>\n",
       "      <td>2000-01-05</td>\n",
       "      <td>4</td>\n",
       "      <td>D</td>\n",
       "      <td>250.0</td>\n",
       "      <td>Debris Burning</td>\n",
       "      <td>OK</td>\n",
       "      <td>34.710278</td>\n",
       "      <td>-94.866111</td>\n",
       "      <td>2000</td>\n",
       "      <td>1</td>\n",
       "    </tr>\n",
       "    <tr>\n",
       "      <th>2</th>\n",
       "      <td>2000-01-01</td>\n",
       "      <td>2000-01-02</td>\n",
       "      <td>1</td>\n",
       "      <td>F</td>\n",
       "      <td>1200.0</td>\n",
       "      <td>Miscellaneous</td>\n",
       "      <td>TX</td>\n",
       "      <td>35.704200</td>\n",
       "      <td>-101.545600</td>\n",
       "      <td>2000</td>\n",
       "      <td>1</td>\n",
       "    </tr>\n",
       "    <tr>\n",
       "      <th>3</th>\n",
       "      <td>2000-01-01</td>\n",
       "      <td>2000-01-02</td>\n",
       "      <td>1</td>\n",
       "      <td>G</td>\n",
       "      <td>7320.0</td>\n",
       "      <td>Fireworks</td>\n",
       "      <td>OK</td>\n",
       "      <td>36.376500</td>\n",
       "      <td>-96.292200</td>\n",
       "      <td>2000</td>\n",
       "      <td>1</td>\n",
       "    </tr>\n",
       "    <tr>\n",
       "      <th>4</th>\n",
       "      <td>2000-01-03</td>\n",
       "      <td>2000-01-04</td>\n",
       "      <td>1</td>\n",
       "      <td>A</td>\n",
       "      <td>0.1</td>\n",
       "      <td>Powerline</td>\n",
       "      <td>WV</td>\n",
       "      <td>38.367662</td>\n",
       "      <td>-82.216708</td>\n",
       "      <td>2000</td>\n",
       "      <td>1</td>\n",
       "    </tr>\n",
       "  </tbody>\n",
       "</table>\n",
       "</div>"
      ],
      "text/plain": [
       "  FIRE_DISC_DATE FIRE_CONT_DATE  FIRE_DURATION FIRE_SIZE_CLASS  FIRE_SIZE  \\\n",
       "0     2000-01-01     2000-01-20             19               B        5.0   \n",
       "1     2000-01-01     2000-01-05              4               D      250.0   \n",
       "2     2000-01-01     2000-01-02              1               F     1200.0   \n",
       "3     2000-01-01     2000-01-02              1               G     7320.0   \n",
       "4     2000-01-03     2000-01-04              1               A        0.1   \n",
       "\n",
       "  STAT_CAUSE_DESCR STATE   LATITUDE   LONGITUDE  FIRE_YEAR_DISC  \\\n",
       "0   Debris Burning    CA  36.448910 -118.738110            2000   \n",
       "1   Debris Burning    OK  34.710278  -94.866111            2000   \n",
       "2    Miscellaneous    TX  35.704200 -101.545600            2000   \n",
       "3        Fireworks    OK  36.376500  -96.292200            2000   \n",
       "4        Powerline    WV  38.367662  -82.216708            2000   \n",
       "\n",
       "   FIRE_MONTH_DISC  \n",
       "0                1  \n",
       "1                1  \n",
       "2                1  \n",
       "3                1  \n",
       "4                1  "
      ]
     },
     "execution_count": 34,
     "metadata": {},
     "output_type": "execute_result"
    }
   ],
   "source": [
    "data_df.head()"
   ]
  },
  {
   "cell_type": "markdown",
   "metadata": {},
   "source": [
    "## Box Plot Comparison of Fire Size by Cause"
   ]
  },
  {
   "cell_type": "code",
   "execution_count": 75,
   "metadata": {},
   "outputs": [
    {
     "data": {
      "text/plain": [
       "<seaborn.axisgrid.FacetGrid at 0x1a680821a08>"
      ]
     },
     "execution_count": 75,
     "metadata": {},
     "output_type": "execute_result"
    },
    {
     "data": {
      "image/png": "[encoded data removed]",
      "text/plain": [
       "<Figure size 1080x360 with 1 Axes>"
      ]
     },
     "metadata": {},
     "output_type": "display_data"
    }
   ],
   "source": [
    "causeSort = data_df.sort_values(by=['STAT_CAUSE_DESCR'])\n",
    "causeSort['LOG_SIZE'] = np.log(causeSort['FIRE_SIZE'])\n",
    "sns.set(style=\"whitegrid\")\n",
    "g = sns.catplot(x=\"STAT_CAUSE_DESCR\",y=\"LOG_SIZE\",data=causeSort,kind='box',height=5,aspect=3)\n",
    "g.set_axis_labels(\"Cause of Fire\", \"Size of Fire [log(acres)]\")"
   ]
  },
  {
   "cell_type": "markdown",
   "metadata": {},
   "source": [
    "## Investigating statistical differences in fire sizes"
   ]
  },
  {
   "cell_type": "code",
   "execution_count": 76,
   "metadata": {},
   "outputs": [],
   "source": [
    "causeSize_df = pd.DataFrame({'FIRE_SIZE' : data_df['FIRE_SIZE'], 'CAUSE' : data_df['STAT_CAUSE_DESCR']})"
   ]
  },
  {
   "cell_type": "code",
   "execution_count": 52,
   "metadata": {},
   "outputs": [
    {
     "data": {
      "text/html": [
       "<div>\n",
       "<style scoped>\n",
       "    .dataframe tbody tr th:only-of-type {\n",
       "        vertical-align: middle;\n",
       "    }\n",
       "\n",
       "    .dataframe tbody tr th {\n",
       "        vertical-align: top;\n",
       "    }\n",
       "\n",
       "    .dataframe thead tr th {\n",
       "        text-align: left;\n",
       "    }\n",
       "\n",
       "    .dataframe thead tr:last-of-type th {\n",
       "        text-align: right;\n",
       "    }\n",
       "</style>\n",
       "<table border=\"1\" class=\"dataframe\">\n",
       "  <thead>\n",
       "    <tr>\n",
       "      <th></th>\n",
       "      <th colspan=\"8\" halign=\"left\">FIRE_SIZE</th>\n",
       "    </tr>\n",
       "    <tr>\n",
       "      <th></th>\n",
       "      <th>count</th>\n",
       "      <th>mean</th>\n",
       "      <th>std</th>\n",
       "      <th>min</th>\n",
       "      <th>25%</th>\n",
       "      <th>50%</th>\n",
       "      <th>75%</th>\n",
       "      <th>max</th>\n",
       "    </tr>\n",
       "    <tr>\n",
       "      <th>CAUSE</th>\n",
       "      <th></th>\n",
       "      <th></th>\n",
       "      <th></th>\n",
       "      <th></th>\n",
       "      <th></th>\n",
       "      <th></th>\n",
       "      <th></th>\n",
       "      <th></th>\n",
       "    </tr>\n",
       "  </thead>\n",
       "  <tbody>\n",
       "    <tr>\n",
       "      <th>Campfire</th>\n",
       "      <td>6340.0</td>\n",
       "      <td>416.948268</td>\n",
       "      <td>8448.541781</td>\n",
       "      <td>0.01</td>\n",
       "      <td>0.1000</td>\n",
       "      <td>0.25</td>\n",
       "      <td>3.00</td>\n",
       "      <td>538049.0</td>\n",
       "    </tr>\n",
       "    <tr>\n",
       "      <th>Children</th>\n",
       "      <td>1548.0</td>\n",
       "      <td>79.244612</td>\n",
       "      <td>842.340428</td>\n",
       "      <td>0.01</td>\n",
       "      <td>0.1000</td>\n",
       "      <td>0.30</td>\n",
       "      <td>2.00</td>\n",
       "      <td>21135.0</td>\n",
       "    </tr>\n",
       "    <tr>\n",
       "      <th>Debris Burning</th>\n",
       "      <td>8620.0</td>\n",
       "      <td>183.727825</td>\n",
       "      <td>2174.491986</td>\n",
       "      <td>0.01</td>\n",
       "      <td>0.7375</td>\n",
       "      <td>5.00</td>\n",
       "      <td>42.00</td>\n",
       "      <td>162702.0</td>\n",
       "    </tr>\n",
       "    <tr>\n",
       "      <th>Equipment Use</th>\n",
       "      <td>4138.0</td>\n",
       "      <td>758.855860</td>\n",
       "      <td>7142.880233</td>\n",
       "      <td>0.01</td>\n",
       "      <td>0.2500</td>\n",
       "      <td>2.50</td>\n",
       "      <td>61.00</td>\n",
       "      <td>240207.0</td>\n",
       "    </tr>\n",
       "    <tr>\n",
       "      <th>Fireworks</th>\n",
       "      <td>1040.0</td>\n",
       "      <td>153.000731</td>\n",
       "      <td>1047.852330</td>\n",
       "      <td>0.01</td>\n",
       "      <td>0.1000</td>\n",
       "      <td>1.00</td>\n",
       "      <td>15.00</td>\n",
       "      <td>22454.0</td>\n",
       "    </tr>\n",
       "    <tr>\n",
       "      <th>Lightning</th>\n",
       "      <td>73154.0</td>\n",
       "      <td>558.660391</td>\n",
       "      <td>7144.057603</td>\n",
       "      <td>0.01</td>\n",
       "      <td>0.1000</td>\n",
       "      <td>0.25</td>\n",
       "      <td>3.00</td>\n",
       "      <td>558198.3</td>\n",
       "    </tr>\n",
       "    <tr>\n",
       "      <th>Miscellaneous</th>\n",
       "      <td>15726.0</td>\n",
       "      <td>504.181498</td>\n",
       "      <td>6573.553043</td>\n",
       "      <td>0.01</td>\n",
       "      <td>0.1000</td>\n",
       "      <td>1.00</td>\n",
       "      <td>15.00</td>\n",
       "      <td>427696.0</td>\n",
       "    </tr>\n",
       "    <tr>\n",
       "      <th>Missing/Undefined</th>\n",
       "      <td>3698.0</td>\n",
       "      <td>626.812818</td>\n",
       "      <td>3765.467908</td>\n",
       "      <td>0.01</td>\n",
       "      <td>0.3000</td>\n",
       "      <td>8.00</td>\n",
       "      <td>175.75</td>\n",
       "      <td>108204.0</td>\n",
       "    </tr>\n",
       "    <tr>\n",
       "      <th>Powerline</th>\n",
       "      <td>1057.0</td>\n",
       "      <td>869.414040</td>\n",
       "      <td>6160.766754</td>\n",
       "      <td>0.01</td>\n",
       "      <td>0.5000</td>\n",
       "      <td>6.50</td>\n",
       "      <td>111.00</td>\n",
       "      <td>156593.0</td>\n",
       "    </tr>\n",
       "    <tr>\n",
       "      <th>Railroad</th>\n",
       "      <td>596.0</td>\n",
       "      <td>278.645705</td>\n",
       "      <td>2418.423520</td>\n",
       "      <td>0.01</td>\n",
       "      <td>0.2500</td>\n",
       "      <td>2.50</td>\n",
       "      <td>35.00</td>\n",
       "      <td>55261.0</td>\n",
       "    </tr>\n",
       "    <tr>\n",
       "      <th>Smoking</th>\n",
       "      <td>1564.0</td>\n",
       "      <td>176.201343</td>\n",
       "      <td>2159.093679</td>\n",
       "      <td>0.01</td>\n",
       "      <td>0.1000</td>\n",
       "      <td>0.25</td>\n",
       "      <td>2.00</td>\n",
       "      <td>58501.0</td>\n",
       "    </tr>\n",
       "    <tr>\n",
       "      <th>Structure</th>\n",
       "      <td>319.0</td>\n",
       "      <td>344.496113</td>\n",
       "      <td>4091.417694</td>\n",
       "      <td>0.01</td>\n",
       "      <td>0.1000</td>\n",
       "      <td>0.40</td>\n",
       "      <td>2.00</td>\n",
       "      <td>69363.0</td>\n",
       "    </tr>\n",
       "  </tbody>\n",
       "</table>\n",
       "</div>"
      ],
      "text/plain": [
       "                  FIRE_SIZE                                               \\\n",
       "                      count        mean          std   min     25%   50%   \n",
       "CAUSE                                                                      \n",
       "Campfire             6340.0  416.948268  8448.541781  0.01  0.1000  0.25   \n",
       "Children             1548.0   79.244612   842.340428  0.01  0.1000  0.30   \n",
       "Debris Burning       8620.0  183.727825  2174.491986  0.01  0.7375  5.00   \n",
       "Equipment Use        4138.0  758.855860  7142.880233  0.01  0.2500  2.50   \n",
       "Fireworks            1040.0  153.000731  1047.852330  0.01  0.1000  1.00   \n",
       "Lightning           73154.0  558.660391  7144.057603  0.01  0.1000  0.25   \n",
       "Miscellaneous       15726.0  504.181498  6573.553043  0.01  0.1000  1.00   \n",
       "Missing/Undefined    3698.0  626.812818  3765.467908  0.01  0.3000  8.00   \n",
       "Powerline            1057.0  869.414040  6160.766754  0.01  0.5000  6.50   \n",
       "Railroad              596.0  278.645705  2418.423520  0.01  0.2500  2.50   \n",
       "Smoking              1564.0  176.201343  2159.093679  0.01  0.1000  0.25   \n",
       "Structure             319.0  344.496113  4091.417694  0.01  0.1000  0.40   \n",
       "\n",
       "                                     \n",
       "                      75%       max  \n",
       "CAUSE                                \n",
       "Campfire             3.00  538049.0  \n",
       "Children             2.00   21135.0  \n",
       "Debris Burning      42.00  162702.0  \n",
       "Equipment Use       61.00  240207.0  \n",
       "Fireworks           15.00   22454.0  \n",
       "Lightning            3.00  558198.3  \n",
       "Miscellaneous       15.00  427696.0  \n",
       "Missing/Undefined  175.75  108204.0  \n",
       "Powerline          111.00  156593.0  \n",
       "Railroad            35.00   55261.0  \n",
       "Smoking              2.00   58501.0  \n",
       "Structure            2.00   69363.0  "
      ]
     },
     "execution_count": 52,
     "metadata": {},
     "output_type": "execute_result"
    }
   ],
   "source": [
    "causeSizedrop = causeSize_df.dropna(subset=['CAUSE']).sort_values(by=['CAUSE']).reset_index(drop=False)\n",
    "causeCount = causeSize_df.groupby(['CAUSE'])\n",
    "causeCount.describe()"
   ]
  },
  {
   "cell_type": "markdown",
   "metadata": {},
   "source": [
    "#### Looking at the above table, we don't have homogeneity of variance, and judging by the amount of tail-end outliers in our box plot, we don't have normality either. However, the distributions are similarly shaped, so we can still proceed with some variants of ANOVA testing, just with loss of power.\n",
    "\n",
    "\n",
    "\n",
    "---"
   ]
  },
  {
   "cell_type": "code",
   "execution_count": 60,
   "metadata": {},
   "outputs": [
    {
     "name": "stdout",
     "output_type": "stream",
     "text": [
      "12\n"
     ]
    }
   ],
   "source": [
    "causeList = []\n",
    "sizeList = []\n",
    "i = 0\n",
    "for cause in causeSizedrop['CAUSE']:\n",
    "    if cause not in causeList:\n",
    "        causeList.append(cause)\n",
    "        sizeList.append([])\n",
    "        for size in causeSizedrop.loc[causeSizedrop['CAUSE'] == cause]['FIRE_SIZE']:\n",
    "            sizeList[i].append(size)\n",
    "        i += 1\n",
    "print(len(causeList))"
   ]
  },
  {
   "cell_type": "code",
   "execution_count": 63,
   "metadata": {},
   "outputs": [
    {
     "data": {
      "text/plain": [
       "F_onewayResult(statistic=4.555074078519759, pvalue=6.012815703987872e-07)"
      ]
     },
     "execution_count": 63,
     "metadata": {},
     "output_type": "execute_result"
    }
   ],
   "source": [
    "stats.f_oneway(sizeList[0],sizeList[1],sizeList[2],sizeList[3],sizeList[4],sizeList[5],sizeList[6],sizeList[7],sizeList[8],sizeList[9],sizeList[10],sizeList[11])"
   ]
  },
  {
   "cell_type": "code",
   "execution_count": 64,
   "metadata": {},
   "outputs": [
    {
     "name": "stderr",
     "output_type": "stream",
     "text": [
      "C:\\Users\\Cuno\\AppData\\Local\\Continuum\\anaconda3\\envs\\geopandas\\lib\\site-packages\\scipy\\stats\\stats.py:5879: RuntimeWarning: overflow encountered in long_scalars\n",
      "  h = 12.0 / (totaln * (totaln + 1)) * ssbn - 3 * (totaln + 1)\n"
     ]
    },
    {
     "data": {
      "text/plain": [
       "KruskalResult(statistic=4897280.591228835, pvalue=0.0)"
      ]
     },
     "execution_count": 64,
     "metadata": {},
     "output_type": "execute_result"
    }
   ],
   "source": [
    "stats.kruskal(sizeList[0],sizeList[1],sizeList[2],sizeList[3],sizeList[4],sizeList[5],sizeList[6],sizeList[7],sizeList[8],sizeList[9],sizeList[10],sizeList[11])"
   ]
  },
  {
   "cell_type": "markdown",
   "metadata": {},
   "source": [
    "F_oneway assumes normality and homogeneity, whereas Kruskal-Wallis only assumes homogeneity. Both indicate that at least one of our fire causes is significantly different than the others.\n",
    "\n",
    "f-test p-value:  6.01e-07\n",
    "Kruskal p-value: Too small to calculate (~=0)\n",
    "\n",
    "\n",
    "---"
   ]
  },
  {
   "cell_type": "markdown",
   "metadata": {},
   "source": [
    "The below test effect does paired t-tests on every subset of fire causes to see where the difference indicated by the ANOVA testing lies. The pairs that reject the null hypothesis at alpha=0.05 are:\n",
    "Children - Equipment Use\n",
    "Debris Burning - Equipment Use\n",
    "Debris Burning - Lightning\n",
    "Debris Burning - Miscellaneous\n",
    "Debris Burning - Missing/Undefined\n",
    "\n",
    "Given this, our conclusion is that Debris Burning caused fires are differently sized than other fire causes."
   ]
  },
  {
   "cell_type": "code",
   "execution_count": 68,
   "metadata": {},
   "outputs": [
    {
     "name": "stdout",
     "output_type": "stream",
     "text": [
      "              Multiple Comparison of Means - Tukey HSD, FWER=0.05               \n",
      "================================================================================\n",
      "      group1            group2       meandiff p-adj    lower      upper   reject\n",
      "--------------------------------------------------------------------------------\n",
      "         Campfire          Children -337.7037 0.8014  -954.9824  279.5751  False\n",
      "         Campfire    Debris Burning -233.2204 0.5954  -593.4634  127.0226  False\n",
      "         Campfire     Equipment Use  341.9076 0.2985   -93.2307  777.0459  False\n",
      "         Campfire         Fireworks -263.9475    0.9  -992.3894  464.4943  False\n",
      "         Campfire         Lightning  141.7121    0.9  -143.3448   426.769  False\n",
      "         Campfire     Miscellaneous   87.2332    0.9  -236.6855   411.152  False\n",
      "         Campfire Missing/Undefined  209.8645    0.9  -240.6653  660.3944  False\n",
      "         Campfire         Powerline  452.4658 0.6404  -270.9262 1175.8578  False\n",
      "         Campfire          Railroad -138.3026    0.9  -1071.159  794.5538  False\n",
      "         Campfire           Smoking -240.7469    0.9  -855.4827  373.9888  False\n",
      "         Campfire         Structure  -72.4522    0.9 -1321.8264 1176.9221  False\n",
      "         Children    Debris Burning  104.4832    0.9  -496.5613  705.5278  False\n",
      "         Children     Equipment Use  679.6112 0.0305    30.9011 1328.3214   True\n",
      "         Children         Fireworks   73.7561    0.9  -799.2313  946.7436  False\n",
      "         Children         Lightning  479.4158 0.1788   -79.8131 1038.6447  False\n",
      "         Children     Miscellaneous  424.9369 0.4135  -155.0656 1004.9394  False\n",
      "         Children Missing/Undefined  547.5682 0.2188   -111.565 1206.7015  False\n",
      "         Children         Powerline  790.1694 0.1171   -78.6087 1658.9476  False\n",
      "         Children          Railroad  199.4011    0.9  -850.2182 1249.0204  False\n",
      "         Children           Smoking   96.9567    0.9   -683.671  877.5844  False\n",
      "         Children         Structure  265.2515    0.9 -1073.5597 1604.0627  False\n",
      "   Debris Burning     Equipment Use   575.128  0.001   163.3431   986.913   True\n",
      "   Debris Burning         Fireworks  -30.7271    0.9  -745.4641  684.0099  False\n",
      "   Debris Burning         Lightning  374.9326  0.001   126.9832  622.8819   True\n",
      "   Debris Burning     Miscellaneous  320.4537 0.0173    28.6579  612.2495   True\n",
      "   Debris Burning Missing/Undefined   443.085 0.0348     15.068   871.102   True\n",
      "   Debris Burning         Powerline  685.6862   0.07   -23.9034 1395.2758  False\n",
      "   Debris Burning          Railroad   94.9179    0.9  -827.2765 1017.1123  False\n",
      "   Debris Burning           Smoking   -7.5265    0.9   -605.959  590.9061  False\n",
      "   Debris Burning         Structure  160.7683    0.9 -1080.6653 1402.2019  False\n",
      "    Equipment Use         Fireworks -605.8551 0.2675 -1361.1162   149.406  False\n",
      "    Equipment Use         Lightning -200.1955 0.7432  -548.1168  147.7258  False\n",
      "    Equipment Use     Miscellaneous -254.6744 0.5501  -635.0888  125.7401  False\n",
      "    Equipment Use Missing/Undefined  -132.043    0.9  -624.7589  360.6728  False\n",
      "    Equipment Use         Powerline  110.5582    0.9  -639.8336  860.9499  False\n",
      "    Equipment Use          Railroad -480.2102 0.8911 -1434.1561  473.7358  False\n",
      "    Equipment Use           Smoking -582.6545  0.125 -1228.9454   63.6363  False\n",
      "    Equipment Use         Structure -414.3597    0.9 -1679.5585   850.839  False\n",
      "        Fireworks         Lightning  405.6597 0.6997  -274.2899 1085.6092  False\n",
      "        Fireworks     Miscellaneous  351.1808 0.8904  -345.9543 1048.3158  False\n",
      "        Fireworks Missing/Undefined  473.8121 0.6517  -290.4203 1238.0444  False\n",
      "        Fireworks         Powerline  716.4133  0.366  -234.5704  1667.397  False\n",
      "        Fireworks          Railroad   125.645    0.9   -992.968  1244.258  False\n",
      "        Fireworks           Smoking   23.2006    0.9  -847.9905  894.3918  False\n",
      "        Fireworks         Structure  191.4954    0.9 -1202.0648 1585.0556  False\n",
      "        Lightning     Miscellaneous  -54.4789    0.9  -245.8612  136.9034  False\n",
      "        Lightning Missing/Undefined   68.1524    0.9  -298.8366  435.1415  False\n",
      "        Lightning         Powerline  310.7536    0.9  -363.7831  985.2904  False\n",
      "        Lightning          Railroad -280.0147    0.9 -1175.5173  615.4879  False\n",
      "        Lightning           Smoking  -382.459 0.5133  -938.8797  173.9616  False\n",
      "        Lightning         Structure -214.1643    0.9 -1435.9007 1007.5721  False\n",
      "    Miscellaneous Missing/Undefined  122.6313    0.9  -275.2969  520.5596  False\n",
      "    Miscellaneous         Powerline  365.2325 0.8408  -326.6242 1057.0893  False\n",
      "    Miscellaneous          Railroad -225.5358    0.9 -1134.1561  683.0845  False\n",
      "    Miscellaneous           Smoking -327.9802 0.7582  -905.2754  249.3151  False\n",
      "    Miscellaneous         Structure -159.6854    0.9 -1391.0691 1071.6983  False\n",
      "Missing/Undefined         Powerline  242.6012    0.9  -516.8193 1002.0217  False\n",
      "Missing/Undefined          Railroad -348.1671    0.9 -1309.2314  612.8972  False\n",
      "Missing/Undefined           Smoking -450.6115 0.5159 -1107.3638  206.1408  False\n",
      "Missing/Undefined         Structure -282.3167    0.9 -1552.8912  988.2578  False\n",
      "        Powerline          Railroad -590.7683 0.8371 -1706.0994  524.5628  False\n",
      "        Powerline           Smoking -693.2127 0.2723 -1560.1859  173.7605  False\n",
      "        Powerline         Structure -524.9179    0.9 -1915.8451  866.0092  False\n",
      "         Railroad           Smoking -102.4444    0.9 -1150.5701  945.6814  False\n",
      "         Railroad         Structure   65.8504    0.9 -1444.6474 1576.3482  False\n",
      "          Smoking         Structure  168.2948    0.9 -1169.3459 1505.9354  False\n",
      "--------------------------------------------------------------------------------\n"
     ]
    }
   ],
   "source": [
    "mc = MultiComparison(causeSizedrop['FIRE_SIZE'],causeSizedrop['CAUSE'])\n",
    "mc_results = mc.tukeyhsd()\n",
    "print(mc_results)"
   ]
  }
 ],
 "metadata": {
  "kernelspec": {
   "display_name": "Python [conda env:geopandas] *",
   "language": "python",
   "name": "conda-env-geopandas-py"
  },
  "language_info": {
   "codemirror_mode": {
    "name": "ipython",
    "version": 3
   },
   "file_extension": ".py",
   "mimetype": "text/x-python",
   "name": "python",
   "nbconvert_exporter": "python",
   "pygments_lexer": "ipython3",
   "version": "3.7.5"
  }
 },
 "nbformat": 4,
 "nbformat_minor": 2
}
